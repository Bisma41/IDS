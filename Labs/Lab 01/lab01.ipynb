{
 "cells": [
  {
   "cell_type": "markdown",
   "id": "0105b22d-b24f-4361-afbe-1af06e335a62",
   "metadata": {},
   "source": [
    "### Task 01"
   ]
  },
  {
   "cell_type": "code",
   "execution_count": 3,
   "id": "d260dd4f-8e1a-4fc2-ad0a-06ca90cad304",
   "metadata": {},
   "outputs": [
    {
     "name": "stdout",
     "output_type": "stream",
     "text": [
      "[ 1  2  3  4  0  6  7  8  9  0 11 12 13 14  0 16 17 18 19  0]\n"
     ]
    }
   ],
   "source": [
    "import numpy as np\n",
    "\n",
    "array_1d = np.array([1,2,3,4,5,6,7,8,9,10,11,12,13,14,15,16,17,18,19,20])\n",
    "array_2d = array_1d.reshape(4, 5)\n",
    "array_2d[:, -1] = 0\n",
    "flattened_array = array_2d.flatten()\n",
    "print(flattened_array)\n"
   ]
  },
  {
   "cell_type": "markdown",
   "id": "03788673-3b64-44f7-a155-ced57c424830",
   "metadata": {},
   "source": [
    "### Task 02"
   ]
  },
  {
   "cell_type": "code",
   "execution_count": 4,
   "id": "7eb6e8de-7b24-435b-b2ab-904d20c9b763",
   "metadata": {},
   "outputs": [
    {
     "name": "stdout",
     "output_type": "stream",
     "text": [
      "Generated Array:\n",
      "[[20 14 12 32 50]\n",
      " [49 47 13 19 24]\n",
      " [31 46 27 17 35]\n",
      " [45 30 48 14 13]\n",
      " [44 24 29 39 12]]\n",
      "\n",
      "Row Statistics:\n",
      "Row 1:\n",
      "  Mean: 25.6\n",
      "  Sum: 128\n",
      "  Minimum: 12\n",
      "  Maximum: 50\n",
      "Row 2:\n",
      "  Mean: 30.4\n",
      "  Sum: 152\n",
      "  Minimum: 13\n",
      "  Maximum: 49\n",
      "Row 3:\n",
      "  Mean: 31.2\n",
      "  Sum: 156\n",
      "  Minimum: 17\n",
      "  Maximum: 46\n",
      "Row 4:\n",
      "  Mean: 30.0\n",
      "  Sum: 150\n",
      "  Minimum: 13\n",
      "  Maximum: 48\n",
      "Row 5:\n",
      "  Mean: 29.6\n",
      "  Sum: 148\n",
      "  Minimum: 12\n",
      "  Maximum: 44\n",
      "\n",
      "Column Statistics:\n",
      "Column 1:\n",
      "  Mean: 37.8\n",
      "  Sum: 189\n",
      "  Minimum: 20\n",
      "  Maximum: 49\n",
      "Column 2:\n",
      "  Mean: 32.2\n",
      "  Sum: 161\n",
      "  Minimum: 14\n",
      "  Maximum: 47\n",
      "Column 3:\n",
      "  Mean: 25.8\n",
      "  Sum: 129\n",
      "  Minimum: 12\n",
      "  Maximum: 48\n",
      "Column 4:\n",
      "  Mean: 24.2\n",
      "  Sum: 121\n",
      "  Minimum: 14\n",
      "  Maximum: 39\n",
      "Column 5:\n",
      "  Mean: 26.8\n",
      "  Sum: 134\n",
      "  Minimum: 12\n",
      "  Maximum: 50\n"
     ]
    }
   ],
   "source": [
    "import numpy as np\n",
    "\n",
    "array = np.random.randint(10, 51, size=(5, 5))\n",
    "print(\"Generated Array:\")\n",
    "print(array)\n",
    "print(\"\\nRow Statistics:\")\n",
    "for i in range(array.shape[0]):\n",
    "    row = array[i]\n",
    "    print(f\"Row {i+1}:\")\n",
    "    print(f\"  Mean: {np.mean(row)}\")\n",
    "    print(f\"  Sum: {np.sum(row)}\")\n",
    "    print(f\"  Minimum: {np.min(row)}\")\n",
    "    print(f\"  Maximum: {np.max(row)}\")\n",
    "print(\"\\nColumn Statistics:\")\n",
    "for j in range(array.shape[1]):\n",
    "    column = array[:, j]\n",
    "    print(f\"Column {j+1}:\")\n",
    "    print(f\"  Mean: {np.mean(column)}\")\n",
    "    print(f\"  Sum: {np.sum(column)}\")\n",
    "    print(f\"  Minimum: {np.min(column)}\")\n",
    "    print(f\"  Maximum: {np.max(column)}\")\n"
   ]
  },
  {
   "cell_type": "markdown",
   "id": "9429639c-718b-47ac-886e-e05b9a9bd358",
   "metadata": {},
   "source": [
    "### Task 03"
   ]
  },
  {
   "cell_type": "code",
   "execution_count": 5,
   "id": "49b44af2-7a22-4169-8dd6-246c4e10507a",
   "metadata": {},
   "outputs": [
    {
     "name": "stdout",
     "output_type": "stream",
     "text": [
      "[[6. 0. 0. 0.]\n",
      " [0. 6. 0. 0.]\n",
      " [0. 0. 6. 0.]\n",
      " [1. 1. 1. 1.]]\n"
     ]
    }
   ],
   "source": [
    "import numpy as np\n",
    "\n",
    "identity_matrix = np.eye(4)\n",
    "identity_matrix += np.eye(4) * 5\n",
    "identity_matrix[-1] = 1\n",
    "print(identity_matrix)\n",
    "\n"
   ]
  },
  {
   "cell_type": "markdown",
   "id": "334c2d4c-4174-44c6-8a1f-7eb2533828bc",
   "metadata": {},
   "source": [
    "### Task 04"
   ]
  },
  {
   "cell_type": "code",
   "execution_count": 6,
   "id": "8e5f534e-1e60-4808-a559-6dd5e008f343",
   "metadata": {},
   "outputs": [
    {
     "name": "stdout",
     "output_type": "stream",
     "text": [
      "Generated Array:\n",
      "[18  6 17  3 11  2  4  8 19  5 17 10 10  0  3]\n",
      "\n",
      "Occurrences of each unique value:\n",
      "Value 0: 1 times\n",
      "Value 2: 1 times\n",
      "Value 3: 2 times\n",
      "Value 4: 1 times\n",
      "Value 5: 1 times\n",
      "Value 6: 1 times\n",
      "Value 8: 1 times\n",
      "Value 10: 2 times\n",
      "Value 11: 1 times\n",
      "Value 17: 2 times\n",
      "Value 18: 1 times\n",
      "Value 19: 1 times\n",
      "\n",
      "Indices of elements greater than 10:\n",
      "[ 0  2  4  8 10]\n"
     ]
    }
   ],
   "source": [
    "import numpy as np\n",
    "\n",
    "array = np.random.randint(0, 21, size=15)\n",
    "print(\"Generated Array:\")\n",
    "print(array)\n",
    "unique, counts = np.unique(array, return_counts=True)\n",
    "occurrences = dict(zip(unique, counts))\n",
    "print(\"\\nOccurrences of each unique value:\")\n",
    "for value, count in occurrences.items():\n",
    "    print(f\"Value {value}: {count} times\")\n",
    "indices_greater_than_10 = np.where(array > 10)[0]\n",
    "print(\"\\nIndices of elements greater than 10:\")\n",
    "print(indices_greater_than_10)\n"
   ]
  },
  {
   "cell_type": "markdown",
   "id": "57fc9b02-d61b-494f-9672-0c28441a93fc",
   "metadata": {},
   "source": [
    "### Task 05"
   ]
  },
  {
   "cell_type": "code",
   "execution_count": 7,
   "id": "cda0f0d4-ca1e-40df-97c8-5d985081ff17",
   "metadata": {},
   "outputs": [
    {
     "name": "stdout",
     "output_type": "stream",
     "text": [
      "Original Array:\n",
      " [[0.86 0.98 0.77 0.17]\n",
      " [0.42 0.07 0.61 0.35]\n",
      " [0.99 0.01 0.71 0.56]]\n",
      "\n",
      "Modified Array:\n",
      " [[0.86 0.5  0.77 0.17]\n",
      " [0.42 0.5  0.61 0.35]\n",
      " [0.99 0.5  0.71 0.56]]\n"
     ]
    }
   ],
   "source": [
    "import numpy as np\n",
    "\n",
    "array_3x4 = np.random.rand(3, 4)\n",
    "array_3x4 = np.round(array_3x4, 2)\n",
    "print(\"Original Array:\\n\", array_3x4)\n",
    "array_3x4[:, 1] = 0.5\n",
    "print(\"\\nModified Array:\\n\", array_3x4)\n"
   ]
  },
  {
   "cell_type": "code",
   "execution_count": null,
   "id": "f1566bcd-b11b-4f2b-a1d3-dc3c7c98e51d",
   "metadata": {},
   "outputs": [],
   "source": []
  }
 ],
 "metadata": {
  "kernelspec": {
   "display_name": "Python 3 (ipykernel)",
   "language": "python",
   "name": "python3"
  },
  "language_info": {
   "codemirror_mode": {
    "name": "ipython",
    "version": 3
   },
   "file_extension": ".py",
   "mimetype": "text/x-python",
   "name": "python",
   "nbconvert_exporter": "python",
   "pygments_lexer": "ipython3",
   "version": "3.12.4"
  }
 },
 "nbformat": 4,
 "nbformat_minor": 5
}
