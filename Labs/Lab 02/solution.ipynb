{
 "cells": [
  {
   "cell_type": "code",
   "execution_count": null,
   "id": "4ca73d16-5bc6-47a9-a0da-87744d1f6536",
   "metadata": {},
   "outputs": [
    {
     "name": "stdout",
     "output_type": "stream",
     "text": [
      "\n",
      "Final player data after deletion:\n",
      " [('Alice', 1200, 10) ('Bob',  950,  8) ('Frank', 1100,  6)\n",
      " ('Charlie', 1600, 12) ('Eve', 1050,  7)]\n"
     ]
    }
   ],
   "source": [
    "import numpy as np\n",
    "player_data=np.array([\n",
    "    ('Alice', 1200, 10),\n",
    "    ('Bob', 950, 8),\n",
    "    ('Charlie', 1500, 12),\n",
    "    ('David', 800, 5)\n",
    "], dtype=[('name', 'U10'), ('score', 'i4'), ('level', 'i4')])\n",
    "highest_level_player=np.argmax(player_data['level'])\n",
    "player_data['score'][highest_level_player] += 100 \n",
    "new_player=np.array([('Eve', 1050, 7)], dtype=player_data.dtype)\n",
    "player_data=np.append(player_data, new_player)\n",
    "new_player=np.array([('Frank', 1100, 6)], dtype=player_data.dtype)\n",
    "player_data=np.insert(player_data, 2, new_player)\n",
    "lowest_score_player=np.argmin(player_data['score'])\n",
    "player_data=np.delete(player_data, lowest_score_player)\n",
    "print(\"\\nFinal player data after deletion:\\n\", player_data)\n"
   ]
  },
  {
   "cell_type": "code",
   "execution_count": null,
   "id": "0d1a6dbf-49a2-46b3-81de-698809d8e98e",
   "metadata": {},
   "outputs": [
    {
     "name": "stdout",
     "output_type": "stream",
     "text": [
      "Daily Visitors:\n",
      " [150 200 170 180 210 190 160]\n",
      "Pages Viewed:\n",
      " [ 80 120  75 130 115  95  85]\n",
      "\n",
      "Shallow Copy of Visitors:\n",
      " [150 200 170 180 210 190 160]\n",
      "Deep Copy of Pages Viewed:\n",
      " [ 80 120  75 130 115  95  85]\n",
      "\n",
      "Concatenated Array:\n",
      " [150 200 170 180 210 190 160  80 120  75 130 115  95  85]\n",
      "\n",
      "Entries with more than 100 pages viewed:\n",
      " [150 200 170 180 210 190 160 120 130 115]\n",
      "Entries with 100 pages or fewer viewed:\n",
      " [80 75 95 85]\n",
      "\n",
      "Modified Daily Visitors:\n",
      " [400 200 170 180 210 190 160]\n",
      "Shallow Copy of Visitors (should reflect changes):\n",
      " [400 200 170 180 210 190 160]\n",
      "\n",
      "Modified Pages Viewed:\n",
      " [200 120  75 130 115  95  85]\n",
      "Deep Copy of Pages Viewed (should not reflect changes):\n",
      " [ 80 120  75 130 115  95  85]\n"
     ]
    }
   ],
   "source": [
    "import numpy as np\n",
    "\n",
    "\n",
    "daily_visitors=np.array([150, 200, 170, 180, 210, 190, 160])\n",
    "pages_viewed=np.array([80, 120, 75, 130, 115, 95, 85])\n",
    "print(\"Daily Visitors:\\n\", daily_visitors)\n",
    "print(\"Pages Viewed:\\n\", pages_viewed)\n",
    "visitors_shallow_copy=daily_visitors.view()\n",
    "pages_viewed_deep_copy=pages_viewed.copy()\n",
    "print(\"\\nShallow Copy of Visitors:\\n\", visitors_shallow_copy)\n",
    "print(\"Deep Copy of Pages Viewed:\\n\", pages_viewed_deep_copy)\n",
    "combined_array=np.concatenate((daily_visitors, pages_viewed))\n",
    "print(\"\\nConcatenated Array:\\n\", combined_array)\n",
    "above_threshold=combined_array[combined_array > 100]\n",
    "below_threshold=combined_array[combined_array <= 100]\n",
    "print(\"\\nEntries with more than 100 pages viewed:\\n\", above_threshold)\n",
    "print(\"Entries with 100 pages or fewer viewed:\\n\", below_threshold)\n",
    "daily_visitors[0]=400 \n",
    "pages_viewed[0]=200  \n",
    "print(\"\\nModified Daily Visitors:\\n\", daily_visitors)\n",
    "print(\"Shallow Copy of Visitors (should reflect changes):\\n\", visitors_shallow_copy)\n",
    "print(\"\\nModified Pages Viewed:\\n\", pages_viewed)\n",
    "print(\"Deep Copy of Pages Viewed (should not reflect changes):\\n\", pages_viewed_deep_copy)\n"
   ]
  },
  {
   "cell_type": "code",
   "execution_count": null,
   "id": "c9bdf67c-1758-407b-848e-0aa8142d657a",
   "metadata": {},
   "outputs": [],
   "source": []
  }
 ],
 "metadata": {
  "kernelspec": {
   "display_name": "Python 3 (ipykernel)",
   "language": "python",
   "name": "python3"
  },
  "language_info": {
   "codemirror_mode": {
    "name": "ipython",
    "version": 3
   },
   "file_extension": ".py",
   "mimetype": "text/x-python",
   "name": "python",
   "nbconvert_exporter": "python",
   "pygments_lexer": "ipython3",
   "version": "3.11.1"
  }
 },
 "nbformat": 4,
 "nbformat_minor": 5
}
