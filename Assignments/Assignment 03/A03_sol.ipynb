{
  "metadata": {
    "kernelspec": {
      "name": "python",
      "display_name": "Python (Pyodide)",
      "language": "python"
    },
    "language_info": {
      "codemirror_mode": {
        "name": "python",
        "version": 3
      },
      "file_extension": ".py",
      "mimetype": "text/x-python",
      "name": "python",
      "nbconvert_exporter": "python",
      "pygments_lexer": "ipython3",
      "version": "3.8"
    }
  },
  "nbformat_minor": 4,
  "nbformat": 4,
  "cells": [
    {
      "cell_type": "markdown",
      "source": "## E-commerce Data Processing \n**Part A:** Data Validation",
      "metadata": {}
    },
    {
      "cell_type": "code",
      "source": "# Part A: Data Validation\nfrom typing import List, Dict\n\norders = [\n    {\"customer\": \"Alice\", \"total\": 250.5},\n    {\"customer\": \"Bob\", \"total\": \"invalid_data\"},\n    {\"customer\": \"Charlie\", \"total\": 450},\n    {\"customer\": \"Daisy\", \"total\": 100.0},\n    {\"customer\": \"Eve\", \"total\": -30},\n]\n\ndef validate_orders(orders: List[Dict]) -> List[Dict]:\n    # Filter out invalid orders using filter() and lambda\n    def is_valid_order(order):\n        try:\n            # Check if the total is a valid number and greater than zero\n            return isinstance(order[\"total\"], (int, float)) and order[\"total\"]>=0\n        except Exception as e:\n            # Handle any type conversion errors\n            print(f\"Error processing order {order['customer']}: {e}\")\n            return False\n    \n    return list(filter(lambda order: is_valid_order(order), orders))\n\nvalid_orders=validate_orders(orders)\nprint(valid_orders)\n\n",
      "metadata": {
        "trusted": true
      },
      "outputs": [
        {
          "name": "stdout",
          "text": "[{'customer': 'Alice', 'total': 250.5}, {'customer': 'Charlie', 'total': 450}, {'customer': 'Daisy', 'total': 100.0}]\n",
          "output_type": "stream"
        }
      ],
      "execution_count": 1
    },
    {
      "cell_type": "markdown",
      "source": "**Part B:** *Discount Application*\n\nApplying a 10% discount to orders above $300.",
      "metadata": {}
    },
    {
      "cell_type": "code",
      "source": "# Part B: Discount Application\ndef apply_discount(orders: List[Dict]) -> List[Dict]:\n    return list(map(lambda order: {\"customer\": order[\"customer\"], \"total\": order[\"total\"] * 0.9} if order[\"total\"] > 300 else order, orders))\n\ndiscounted_orders=apply_discount(valid_orders)\nprint(discounted_orders)\n",
      "metadata": {
        "trusted": true
      },
      "outputs": [
        {
          "name": "stdout",
          "text": "[{'customer': 'Alice', 'total': 250.5}, {'customer': 'Charlie', 'total': 405.0}, {'customer': 'Daisy', 'total': 100.0}]\n",
          "output_type": "stream"
        }
      ],
      "execution_count": 6
    },
    {
      "cell_type": "markdown",
      "source": "**Part C:** *Total Sales Calculation*",
      "metadata": {}
    },
    {
      "cell_type": "code",
      "source": "from functools import reduce\n\n# Part C: Total Sales Calculation\ndef calculate_total_sales(orders: List[Dict]) -> float:\n    return reduce(lambda acc, order: acc + order[\"total\"], orders, 0)\n\ntotal_sales = calculate_total_sales(discounted_orders)\nprint(f\"Total Sales: {total_sales}\")\n",
      "metadata": {
        "trusted": true
      },
      "outputs": [
        {
          "name": "stdout",
          "text": "Total Sales: 755.5\n",
          "output_type": "stream"
        }
      ],
      "execution_count": 5
    },
    {
      "cell_type": "markdown",
      "source": "## Task 2: Iterator and Generator\n**Part A:** *Custom Iterator*",
      "metadata": {}
    },
    {
      "cell_type": "code",
      "source": "# Part A: Custom Iterator\nclass SquareIterator:\n    def __init__(self,n):\n        self.n=n\n        self.current=1\n\n    def __iter__(self):\n        return self\n\n    def __next__(self):\n        if self.current<=self.n:\n            result=self.current ** 2\n            self.current +=1\n            return result\n        else:\n            raise StopIteration\n\n# Example usage\nsquare_iterator=SquareIterator(5)\nfor square in square_iterator:\n    print(square)\n",
      "metadata": {
        "trusted": true
      },
      "outputs": [
        {
          "name": "stdout",
          "text": "1\n4\n9\n16\n25\n",
          "output_type": "stream"
        }
      ],
      "execution_count": 7
    },
    {
      "cell_type": "markdown",
      "source": "**Part B:** *Fibonacci Generator*",
      "metadata": {}
    },
    {
      "cell_type": "code",
      "source": "# Part B: Fibonacci Generator\ndef fibonacci_generator(n):\n    a,b=0,1\n    while a<=n:\n        yield a\n        a,b=b,a+b\n\n# Example usage\nfor fib_num in fibonacci_generator(10):\n    print(fib_num)\n",
      "metadata": {
        "trusted": true
      },
      "outputs": [],
      "execution_count": null
    },
    {
      "cell_type": "markdown",
      "source": "## Task 3: Exception Handling and Function Decorator\n**Part A:** *Chained Exceptions*",
      "metadata": {}
    },
    {
      "cell_type": "code",
      "source": "# Part A: Chained Exceptions\nclass DivisionError(Exception):\n    pass\n\ndef divide_numbers(numbers: List[float], divisor: float):\n    try:\n        if divisor==0:\n            raise DivisionError(\"Cannot divide by zero\")\n        return [num/divisor for num in numbers]\n    except TypeError as e:\n        raise DivisionError(\"Invalid input encountered\") from e\n\n# Example\ntry:\n    result = divide_numbers([10,20,\"invalid\",40],0)\nexcept DivisionError as e:\n    print(f\"Error: {e}\")\n",
      "metadata": {
        "trusted": true
      },
      "outputs": [],
      "execution_count": null
    }
  ]
}
