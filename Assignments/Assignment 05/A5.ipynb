{
 "cells": [
  {
   "cell_type": "markdown",
   "metadata": {},
   "source": [
    "# Data Analysis Assignment\n",
    "\n",
    "This notebook analyzes customer and sales data to generate meaningful insights while handling real-world data issues. Let's tackle the tasks step-by-step."
   ]
  },
  {
   "cell_type": "markdown",
   "metadata": {},
   "source": [
    "## Task 1: Load and Inspect the Datasets\n",
    "1. Load the datasets into Pandas DataFrames.\n",
    "2. Display the first few rows of each dataset.\n",
    "3. Show the total number of rows and columns.\n",
    "4. Check for missing values in each dataset.\n",
    "5. Handle missing values appropriately."
   ]
  },
  {
   "cell_type": "code",
   "execution_count": null,
   "metadata": {},
   "outputs": [],
   "source": [
    "import pandas as pd\n",
    "\n",
    "# Load datasets\n",
    "customers_df = pd.read_csv('customers.csv')\n",
    "sales_df = pd.read_csv('sales.csv')\n",
    "\n",
    "# Display the first few rows of each dataset\n",
    "print(\"Customers Dataset:\")\n",
    "print(customers_df.head())\n",
    "\n",
    "print(\"\\nSales Dataset:\")\n",
    "print(sales_df.head())\n",
    "\n",
    "# Show the total number of rows and columns\n",
    "print(\"\\nCustomers DataFrame shape:\", customers_df.shape)\n",
    "print(\"Sales DataFrame shape:\", sales_df.shape)\n",
    "\n",
    "# Check for missing values\n",
    "print(\"\\nMissing values in Customers Dataset:\")\n",
    "print(customers_df.isnull().sum())\n",
    "\n",
    "print(\"\\nMissing values in Sales Dataset:\")\n",
    "print(sales_df.isnull().sum())\n",
    "\n",
    "# Example: Handling missing values\n",
    "customers_df['Age'] = customers_df['Age'].fillna(customers_df['Age'].mean())"
   ]
  },
  {
   "cell_type": "markdown",
   "metadata": {},
   "source": [
    "## Task 2: Convert `customers.csv` to a Dictionary and Filter Data\n",
    "1. Convert the `customers.csv` dataset to a Python dictionary.\n",
    "2. Filter customers from a specific city using both dictionary and DataFrame approaches.\n",
    "3. Compare the efficiency of both approaches."
   ]
  },
  {
   "cell_type": "code",
   "execution_count": null,
   "metadata": {},
   "outputs": [],
   "source": [
    "# Convert to a dictionary\n",
    "customers_dict = customers_df.to_dict('records')\n",
    "\n",
    "# Filter data by city (dictionary approach)\n",
    "city_name = \"New York\"\n",
    "filtered_customers_dict = [customer for customer in customers_dict if customer['City'] == city_name]\n",
    "\n",
    "# Filter data using DataFrame\n",
    "filtered_customers_df = customers_df[customers_df['City'] == city_name]\n",
    "\n",
    "# Compare efficiency\n",
    "import time\n",
    "\n",
    "start = time.time()\n",
    "filtered_customers_dict = [customer for customer in customers_dict if customer['City'] == city_name]\n",
    "print(\"Dictionary filtering time:\", time.time() - start)\n",
    "\n",
    "start = time.time()\n",
    "filtered_customers_df = customers_df[customers_df['City'] == city_name]\n",
    "print(\"DataFrame filtering time:\", time.time() - start)"
   ]
  },
  {
   "cell_type": "markdown",
   "metadata": {},
   "source": [
    "## Task 3: Identify and Remove Duplicate Rows\n",
    "1. Identify duplicate rows in the datasets.\n",
    "2. Remove duplicate rows.\n",
    "3. Verify that there are no duplicates left."
   ]
  },
  {
   "cell_type": "code",
   "execution_count": null,
   "metadata": {},
   "outputs": [],
   "source": [
    "# Identify duplicate rows\n",
    "print(\"Duplicates in Customers Dataset:\", customers_df.duplicated().sum())\n",
    "print(\"Duplicates in Sales Dataset:\", sales_df.duplicated().sum())\n",
    "\n",
    "# Remove duplicates\n",
    "customers_df = customers_df.drop_duplicates()\n",
    "sales_df = sales_df.drop_duplicates()\n",
    "\n",
    "# Verify removal\n",
    "print(\"\\nDuplicates after removal (Customers):\", customers_df.duplicated().sum())\n",
    "print(\"Duplicates after removal (Sales):\", sales_df.duplicated().sum())"
   ]
  },
  {
   "cell_type": "markdown",
   "metadata": {},
   "source": [
    "## Task 4: Add a Discounted Column and Group by Product\n",
    "1. Add a new column reflecting a 10% discount on the `Amount` column.\n",
    "2. Group the data by product and calculate the total sales for each product."
   ]
  },
  {
   "cell_type": "code",
   "execution_count": null,
   "metadata": {},
   "outputs": [],
   "source": [
    "# Add a discounted column\n",
    "sales_df['Discounted_Amount'] = sales_df['Amount'] * 0.9\n",
    "\n",
    "# Group by product and calculate total sales\n",
    "total_sales_by_product = sales_df.groupby('Product')['Discounted_Amount'].sum()\n",
    "print(total_sales_by_product)"
   ]
  },
  {
   "cell_type": "markdown",
   "metadata": {},
   "source": [
    "## Task 5: Filter Customers by Age Range\n",
    "1. Filter customers whose age falls between 25 and 35.\n",
    "2. Analyze how many customers belong to each city in this age range."
   ]
  },
  {
   "cell_type": "code",
   "execution_count": null,
   "metadata": {},
   "outputs": [],
   "source": [
    "# Filter customers by age range\n",
    "age_filtered_customers = customers_df[(customers_df['Age'] >= 25) & (customers_df['Age'] <= 35)]\n",
    "\n",
    "# Count customers by city\n",
    "city_counts = age_filtered_customers['City'].value_counts()\n",
    "print(city_counts)"
   ]
  },
  {
   "cell_type": "markdown",
   "metadata": {},
   "source": [
    "## Task 6: Merge Datasets and Analyze\n",
    "1. Merge `customers.csv` and `sales.csv` datasets on `CustomerID`.\n",
    "2. Identify the city that generated the highest total sales.\n",
    "3. Find the product with the most units sold."
   ]
  },
  {
   "cell_type": "code",
   "execution_count": null,
   "metadata": {},
   "outputs": [],
   "source": [
    "# Merge datasets\n",
    "merged_df = pd.merge(customers_df, sales_df, on='CustomerID')\n",
    "\n",
    "# City with highest total sales\n",
    "city_sales = merged_df.groupby('City')['Amount'].sum()\n",
    "print(\"City with highest sales:\", city_sales.idxmax())\n",
    "\n",
    "# Product with most units sold\n",
    "product_units = merged_df.groupby('Product')['Quantity'].sum()\n",
    "print(\"Product with most units sold:\", product_units.idxmax())"
   ]
  },
  {
   "cell_type": "markdown",
   "metadata": {},
   "source": [
    "## Task 7: Explore Insights\n",
    "1. Display unique values in the `City` and `Product` columns.\n",
    "2. Calculate the mean and median of the `Amount` column."
   ]
  },
  {
   "cell_type": "code",
   "execution_count": null,
   "metadata": {},
   "outputs": [],
   "source": [
    "# Display unique values\n",
    "print(\"Unique Cities:\", merged_df['City'].unique())\n",
    "print(\"Unique Products:\", merged_df['Product'].unique())\n",
    "\n",
    "# Calculate mean and median of the Amount column\n",
    "mean_amount = merged_df['Amount'].mean()\n",
    "median_amount = merged_df['Amount'].median()\n",
    "\n",
    "print(\"Mean of Amount:\", mean_amount)\n",
    "print(\"Median of Amount:\", median_amount)"
   ]
  }
 ],
 "metadata": {
  "kernelspec": {
   "display_name": "Python 3",
   "language": "python",
   "name": "python3"
  },
  "language_info": {
   "codemirror_mode": {
    "name": "ipython",
    "version": 3
   },
   "file_extension": ".py",
   "mimetype": "text/x-python",
   "name": "python",
   "nbconvert_exporter": "python",
   "pygments_lexer": "ipython3",
   "version": "3.8.5"
  }
 },
 "nbformat": 4,
 "nbformat_minor": 4
}
