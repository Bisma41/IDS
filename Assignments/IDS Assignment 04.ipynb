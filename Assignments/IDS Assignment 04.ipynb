{
  "metadata": {
    "kernelspec": {
      "name": "python",
      "display_name": "Python (Pyodide)",
      "language": "python"
    },
    "language_info": {
      "codemirror_mode": {
        "name": "python",
        "version": 3
      },
      "file_extension": ".py",
      "mimetype": "text/x-python",
      "name": "python",
      "nbconvert_exporter": "python",
      "pygments_lexer": "ipython3",
      "version": "3.8"
    }
  },
  "nbformat_minor": 4,
  "nbformat": 4,
  "cells": [
    {
      "cell_type": "markdown",
      "source": "### Task 1: Initialize Temperature and Humidity Data",
      "metadata": {}
    },
    {
      "cell_type": "code",
      "source": "import numpy as np\n\n# Number of locations and days\nlocations = 500\ndays = 365\n\n# Generate random temperature and humidity data\n# Temperatures between -10 and 40 degrees Celsius\ntemperature_data = np.random.uniform(-10, 40, (locations, days))\n\n# Humidity between 0% and 100%\nhumidity_data = np.random.uniform(0, 100, (locations, days))\n",
      "metadata": {
        "trusted": true
      },
      "outputs": [],
      "execution_count": null
    },
    {
      "cell_type": "markdown",
      "source": "### Task 2: Check for Missing Data\n",
      "metadata": {}
    },
    {
      "cell_type": "code",
      "source": "# Calculate 5% of total entries\nnum_missing = int(0.05 * locations * days)\n\n# Randomly choose 5% of the elements in temperature and humidity data to set as NaN\ntemperature_data.ravel()[np.random.choice(locations * days, num_missing, replace=False)] = np.nan\nhumidity_data.ravel()[np.random.choice(locations * days, num_missing, replace=False)] = np.nan\n\n# Count missing values\nmissing_temperature = np.isnan(temperature_data).sum()\nmissing_humidity = np.isnan(humidity_data).sum()\n\nprint(\"Missing values in temperature data:\", missing_temperature)\nprint(\"Missing values in humidity data:\", missing_humidity)\n",
      "metadata": {
        "trusted": true
      },
      "outputs": [],
      "execution_count": null
    },
    {
      "cell_type": "markdown",
      "source": "### Task 3: Convert Temperature and Calculate Discomfort Index\n",
      "metadata": {}
    },
    {
      "cell_type": "code",
      "source": "# Convert temperatures from Celsius to Fahrenheit\ntemperature_data_fahrenheit = (temperature_data * 9/5) + 32\n\n# Calculate the discomfort index using a basic formula\ndiscomfort_index = temperature_data + (0.55 * (1 - humidity_data / 100) * (temperature_data - 14.5))\n\n# Set discomfort index to a maximum of 80 wherever it exceeds 80\ndiscomfort_index[discomfort_index > 80] = 80\n",
      "metadata": {
        "trusted": true
      },
      "outputs": [],
      "execution_count": null
    },
    {
      "cell_type": "markdown",
      "source": "### Task 4: Analyze January Temperatures\n",
      "metadata": {}
    },
    {
      "cell_type": "code",
      "source": "# Get January temperatures\njanuary_temperatures = temperature_data[:, :31]\n\n# Calculate the average temperature for January across all locations\naverage_january_temp = np.nanmean(january_temperatures)\n\nprint(\"Average January temperature:\", average_january_temp)\n",
      "metadata": {
        "trusted": true
      },
      "outputs": [],
      "execution_count": null
    },
    {
      "cell_type": "markdown",
      "source": "### Task 5: Identify Extreme Temperatures\n",
      "metadata": {}
    },
    {
      "cell_type": "code",
      "source": "# Mark temperatures over 35°C as NaN (considered as potential errors)\ntemperature_data[temperature_data > 35] = np.nan\n\n# Count how many NaN values there are now for each location\nnull_counts_per_location = np.isnan(temperature_data).sum(axis=1)\n\nprint(\"Null counts per location:\", null_counts_per_location)\n",
      "metadata": {
        "trusted": true
      },
      "outputs": [],
      "execution_count": null
    },
    {
      "cell_type": "markdown",
      "source": "### Task 6: Calculate Quarterly Temperature Averages\n",
      "metadata": {}
    },
    {
      "cell_type": "code",
      "source": "# Split data into four quarters\nquarter1 = temperature_data[:, :91]       # Days 1 to 91\nquarter2 = temperature_data[:, 91:182]    # Days 92 to 182\nquarter3 = temperature_data[:, 182:273]   # Days 183 to 273\nquarter4 = temperature_data[:, 273:]      # Days 274 to 365\n\n# Calculate average temperature for each quarter\naverage_q1 = np.nanmean(quarter1, axis=1)\naverage_q2 = np.nanmean(quarter2, axis=1)\naverage_q3 = np.nanmean(quarter3, axis=1)\naverage_q4 = np.nanmean(quarter4, axis=1)\n\nprint(\"Quarterly averages (per location):\")\nprint(\"Q1:\", average_q1)\nprint(\"Q2:\", average_q2)\nprint(\"Q3:\", average_q3)\nprint(\"Q4:\", average_q4)\n",
      "metadata": {
        "trusted": true
      },
      "outputs": [],
      "execution_count": null
    },
    {
      "cell_type": "markdown",
      "source": "### Task 7: Classify Humidity Levels\n",
      "metadata": {}
    },
    {
      "cell_type": "code",
      "source": "# Count \"Dry\" days (humidity below 30%) for each location\ndry_days = np.sum(humidity_data < 30, axis=1)\n\n# Count \"Humid\" days (humidity above 70%) for each location\nhumid_days = np.sum(humidity_data > 70, axis=1)\n\nprint(\"Total 'Dry' days per location:\", dry_days)\nprint(\"Total 'Humid' days per location:\", humid_days)\n",
      "metadata": {
        "trusted": true
      },
      "outputs": [],
      "execution_count": null
    },
    {
      "cell_type": "markdown",
      "source": "### Task 8: Apply Daily Pressure Trend to Temperature Data\n",
      "metadata": {}
    },
    {
      "cell_type": "code",
      "source": "# Create a simulated pressure trend that goes from 0.95 to 1.05 over the 365 days\npressure_trend = np.linspace(0.95, 1.05, days)\n\n# Apply the pressure trend to adjust temperatures\nadjusted_temperature_data = temperature_data * pressure_trend\n\nprint(\"Adjusted temperature data (after applying pressure trend):\")\nprint(adjusted_temperature_data)\n",
      "metadata": {
        "trusted": true
      },
      "outputs": [],
      "execution_count": null
    }
  ]
}