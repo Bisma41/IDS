{
 "cells": [
  {
   "cell_type": "code",
   "execution_count": null,
   "id": "dac7a355",
   "metadata": {},
   "outputs": [],
   "source": [
    "\n",
    "# Part 1: User Data Processing with Lists\n",
    "# Task 1: Filter users older than 30 from specific countries (USA, Canada)\n",
    "users = [(1, 'Alice', 25, 'USA'), (2, 'Bob', 35, 'Canada'), (3, 'Charlie', 32, 'UK'), (4, 'David', 40, 'USA')]\n",
    "\n",
    "filtered_names = []\n",
    "for user in users:\n",
    "    user_id, user_name, age, country = user\n",
    "    if age > 30 and country in ['USA', 'Canada']:\n",
    "        filtered_names.append(user_name)\n",
    "\n",
    "print(filtered_names)\n"
   ]
  },
  {
   "cell_type": "code",
   "execution_count": null,
   "id": "2498c55c",
   "metadata": {},
   "outputs": [],
   "source": [
    "\n",
    "# Task 2: Sort by age and return top 10 oldest users (we'll assume fewer users for now)\n",
    "users_sorted = sorted(users, key=lambda x: x[2], reverse=True)\n",
    "top_10_oldest = users_sorted[:10]\n",
    "print(top_10_oldest)\n"
   ]
  },
  {
   "cell_type": "code",
   "execution_count": null,
   "id": "0aaa45ca",
   "metadata": {},
   "outputs": [],
   "source": [
    "\n",
    "# Part 2: Immutable Data Management with Tuples\n",
    "# Task 1: Find total unique users in transactions\n",
    "transactions = [(1, 101, 500, '2023-10-12'), (2, 102, 300, '2023-10-13'), (3, 101, 150, '2023-10-14')]\n",
    "unique_users = set()\n",
    "\n",
    "for transaction in transactions:\n",
    "    unique_users.add(transaction[1])  # user_id is the second item in the tuple\n",
    "\n",
    "print(len(unique_users))\n"
   ]
  },
  {
   "cell_type": "code",
   "execution_count": null,
   "id": "2f6cde39",
   "metadata": {},
   "outputs": [],
   "source": [
    "\n",
    "# Task 2: Find the transaction with the highest amount\n",
    "max_transaction = transactions[0]\n",
    "\n",
    "for transaction in transactions:\n",
    "    if transaction[2] > max_transaction[2]:\n",
    "        max_transaction = transaction\n",
    "\n",
    "print(max_transaction)\n"
   ]
  },
  {
   "cell_type": "code",
   "execution_count": null,
   "id": "154ae30e",
   "metadata": {},
   "outputs": [],
   "source": [
    "\n",
    "# Part 3: Unique Data Handling with Sets\n",
    "# Task 1: Find users who visited both Page A and B\n",
    "page_A = {1, 2, 3, 4}\n",
    "page_B = {3, 4, 5, 6}\n",
    "\n",
    "visited_both = page_A.intersection(page_B)\n",
    "print(visited_both)\n"
   ]
  },
  {
   "cell_type": "code",
   "execution_count": null,
   "id": "868354c8",
   "metadata": {},
   "outputs": [],
   "source": [
    "\n",
    "# Task 2: Find users who visited either Page A or C, but not both\n",
    "page_C = {4, 5, 7, 8}\n",
    "visited_either_but_not_both = page_A.symmetric_difference(page_C)\n",
    "print(visited_either_but_not_both)\n"
   ]
  },
  {
   "cell_type": "code",
   "execution_count": null,
   "id": "85600a65",
   "metadata": {},
   "outputs": [],
   "source": [
    "\n",
    "# Part 4: Data Aggregation with Dictionaries\n",
    "# Task 1: Filter users with ratings 4 or higher\n",
    "feedback = {101: {'rating': 4, 'comments': 'Good'}, 102: {'rating': 5, 'comments': 'Great'}, 103: {'rating': 3, 'comments': 'Okay'}}\n",
    "filtered_feedback = {}\n",
    "\n",
    "for user_id, details in feedback.items():\n",
    "    if details['rating'] >= 4:\n",
    "        filtered_feedback[user_id] = details['rating']\n",
    "\n",
    "print(filtered_feedback)\n"
   ]
  }
 ],
 "metadata": {},
 "nbformat": 4,
 "nbformat_minor": 5
}
